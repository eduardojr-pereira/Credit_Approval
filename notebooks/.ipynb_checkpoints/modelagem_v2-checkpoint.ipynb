{
 "cells": [
  {
   "cell_type": "markdown",
   "metadata": {
    "slideshow": {
     "slide_type": "slide"
    }
   },
   "source": [
    "# SOMMELIER INTELIGENTE"
   ]
  },
  {
   "cell_type": "markdown",
   "metadata": {},
   "source": [
    "## 1. Visão Geral e Objetivos"
   ]
  },
  {
   "cell_type": "markdown",
   "metadata": {},
   "source": [
    "Esses dados são os resultados de uma análise química de vinhos cultivados em uma mesma região da Itália, mas derivados de três cultivos diferentes. A análise determinou as quantidades de 13 constituintes encontrados em cada um dos três tipos de vinhos. Os constituintes são:\n",
    "\n",
    "1) Alcohol: teor de álcool, relatado em unidades de ABV (alcohol by volume).\n",
    "\n",
    "2) Malic acid: um dos principais ácidos orgânicos encontrados no vinho. Embora seja encontrado em quase todas as frutas e bagas, seu sabor é mais proeminente nas maçãs verdes; da mesma forma, ele projeta esse sabor azedo no vinho. Para obter mais informações, fique à vontade para ler sobre os ácidos do vinho.\n",
    "\n",
    "3) Ash: o vinho tem cinzas e elas são simplesmente a matéria inorgânica deixada após a evaporação e incineração.\n",
    "\n",
    "4) Alcalinity of ash: a alcalinidade da cinza determina o quão básica (em oposição a ácida) a cinza é em um vinho.\n",
    "\n",
    "5) Magnesium: o magnésio é um metal que afeta o sabor do vinho.\n",
    "\n",
    "6) Total phenols: Os fenóis são produtos químicos que afetam o sabor, a cor e a sensação na boca (ou seja, a textura) do vinho. Para algumas informações (muito) aprofundadas sobre fenóis, referimo-nos ao conteúdo fenólico no vinho.\n",
    "\n",
    "7) Flavoids: flavonóides são um tipo de fenol.\n",
    "\n",
    "8) Nonflavoid phenols: não flavonóides são outro tipo de fenol.\n",
    "\n",
    "9) Proanthocyanins: as proantocianidinas são outro tipo de fenol.\n",
    "\n",
    "10) Color intensity: a intensidade da cor de um vinho: ou seja, quão escuro é.\n",
    "\n",
    "11) Hue: a tonalidade de um vinho, que normalmente é determinada pela cor da cultivar utilizada (embora nem sempre seja o caso).\n",
    "\n",
    "12) OD280/OD315 of diluted wines: medições de conteúdo de proteína.\n",
    "\n",
    "13) Proline: um aminoácido presente nos vinhos\n",
    "\n",
    "O conjunto de dados, disponível no [UCI Machine Learning Repository](https://archive.ics.uci.edu/ml/machine-learning-databases/wine/wine.data), consiste em 178 amostras dessas três classes  diferentes de vinho ('Classe_1','Classe_2','Classe_3'). Nesse sentido, o conjunto de dados do vinho é um conjunto de dados de classificação de várias classes.\n",
    "\n",
    "\n",
    "Considerando este conjunto de dados, deseja-se construir uma aplicação web que auxilie na classificação de forma mais precisa e mais rápida.\n",
    "\n",
    "Original Owners:\n",
    "\n",
    "Forina, M. et al, PARVUS - An Extendible Package for Data Exploration, Classification and Correlation. Institute of Pharmaceutical and Food Analysis and Technologies, Via Brigata Salerno, 16147 Genoa, Italy.\n",
    "*The attributes are (dontated by Riccardo Leardi,riclea@anchem.unige.it)\n",
    "\n"
   ]
  },
  {
   "cell_type": "markdown",
   "metadata": {},
   "source": [
    "## 2. Configuração do projeto"
   ]
  },
  {
   "cell_type": "code",
   "execution_count": null,
   "metadata": {},
   "outputs": [],
   "source": [
    "import joblib\n",
    "import os\n",
    "import urllib\n",
    "\n",
    "import matplotlib\n",
    "import matplotlib.pyplot as plt\n",
    "import numpy as np\n",
    "import pandas as pd\n",
    "import seaborn as sns\n",
    "\n",
    "import sklearn\n",
    "from sklearn.neighbors import KNeighborsClassifier\n",
    "from sklearn.model_selection import cross_val_score, GridSearchCV, KFold, train_test_split, cross_val_predict\n",
    "from sklearn.metrics import confusion_matrix, classification_report, accuracy_score\n",
    "\n",
    "\n",
    "#pacotes incluídos\n",
    "from sklearn.ensemble import RandomForestClassifier\n",
    "from sklearn.svm import SVC\n",
    "from sklearn.tree import DecisionTreeClassifier, plot_tree\n",
    "from sklearn.linear_model import LogisticRegression\n",
    "from sklearn.naive_bayes import GaussianNB\n",
    "\n",
    "\n",
    "\n",
    "print('Matplotlib version: {}'.format(matplotlib.__version__))\n",
    "print('Numpy version: {}'.format(np.__version__))\n",
    "print('Pandas version: {}'.format(pd.__version__))\n",
    "print('Sklearn version: {}'.format(sklearn.__version__))\n",
    "print('Seaborn version: {}'.format(sns.__version__))\n",
    "\n",
    "WINE_ROOT = 'https://archive.ics.uci.edu/ml/machine-learning-databases/wine/'\n",
    "WINE_URL = WINE_ROOT + 'wine.data'\n",
    "\n",
    "DATA_PATH = os.path.join('..','data','raw')\n",
    "DATA_FILE = 'wine.csv'\n",
    "WINE_DATA = os.path.join (DATA_PATH, DATA_FILE)\n",
    "\n",
    "DEPLOY_PATH = os.path.join ('..','model')\n",
    "DEPLOY_FILE = 'finalized_model.sav'\n",
    "\n",
    "SEED = 42\n",
    "\n",
    "print(\"Configuração completa!\")"
   ]
  },
  {
   "cell_type": "markdown",
   "metadata": {},
   "source": [
    "## 3. Carga de dados"
   ]
  },
  {
   "cell_type": "code",
   "execution_count": null,
   "metadata": {},
   "outputs": [],
   "source": [
    "def download_data(data_url=WINE_URL, data_path=DATA_PATH, data_file=DATA_FILE):\n",
    "    os.makedirs(data_path, exist_ok=True)\n",
    "    local_path = os.path.join(data_path, data_file)\n",
    "    urllib.request.urlretrieve(WINE_URL, local_path)"
   ]
  },
  {
   "cell_type": "code",
   "execution_count": null,
   "metadata": {},
   "outputs": [],
   "source": [
    "download_data(WINE_URL, DATA_PATH, DATA_FILE)"
   ]
  },
  {
   "cell_type": "code",
   "execution_count": null,
   "metadata": {},
   "outputs": [],
   "source": [
    "def load_data(data_path, data_file):\n",
    "    local_path = os.path.join(data_path, data_file)\n",
    "    return pd.read_csv(local_path,header=None, names = ['Alcohol', 'Malic_acid','Ash', \n",
    "                                                       'Alcalinity_of_ash','Magnesium', 'Total_phenols',\n",
    "                                                       'Flavanoids','Nonflavanoid_phenols','Proanthocyanins',\n",
    "                                                       'Color_intensity','Hue','Protein_content',\n",
    "                                                       'Proline'])"
   ]
  },
  {
   "cell_type": "code",
   "execution_count": null,
   "metadata": {},
   "outputs": [],
   "source": [
    "wine_data = load_data(DATA_PATH, DATA_FILE)"
   ]
  },
  {
   "cell_type": "markdown",
   "metadata": {},
   "source": [
    "## 4. Análise Exploratória dos dados"
   ]
  },
  {
   "cell_type": "code",
   "execution_count": null,
   "metadata": {},
   "outputs": [],
   "source": [
    "wine_data.info()\n",
    "print(\"-\"*55)\n",
    "print('O dataset tem {} linhas e {} colunas'.format(wine_data.shape[0], wine_data.shape[1]))"
   ]
  },
  {
   "cell_type": "code",
   "execution_count": null,
   "metadata": {},
   "outputs": [],
   "source": [
    "wine_data = wine_data.rename_axis('Class').reset_index()"
   ]
  },
  {
   "cell_type": "code",
   "execution_count": null,
   "metadata": {},
   "outputs": [],
   "source": [
    "wine_data['Class']= wine_data['Class'].replace([1,2,3],['Class_1','Class_2','Class_3'])"
   ]
  },
  {
   "cell_type": "code",
   "execution_count": null,
   "metadata": {},
   "outputs": [],
   "source": [
    "wine_data.head()"
   ]
  },
  {
   "cell_type": "code",
   "execution_count": null,
   "metadata": {},
   "outputs": [],
   "source": [
    "wine_data.tail()"
   ]
  },
  {
   "cell_type": "code",
   "execution_count": null,
   "metadata": {},
   "outputs": [],
   "source": [
    "wine_data.describe()"
   ]
  },
  {
   "cell_type": "code",
   "execution_count": null,
   "metadata": {},
   "outputs": [],
   "source": [
    "#Verificando as classes existentes de vinhos e suas respectivas ocorrências no dataset\n",
    "plt.figure(figsize = (10,5))\n",
    "plt.title('Vinhos distribuídos por classes')\n",
    "_=sns.countplot(x='Class', data=wine_data)\n",
    "print(wine_data.groupby(by='Class').size())"
   ]
  },
  {
   "cell_type": "markdown",
   "metadata": {},
   "source": [
    "### 4.1 Verificando \"missing values\""
   ]
  },
  {
   "cell_type": "code",
   "execution_count": null,
   "metadata": {},
   "outputs": [],
   "source": [
    "#Verificando a contagem de registros ausentes\n",
    "print('Registros ausentes por coluna')\n",
    "for c in range(wine_data.shape[1]):\n",
    "    missing   = wine_data[[wine_data.columns[c]]].isnull().sum()\n",
    "    percentual = missing / wine_data.shape[0] * 100\n",
    "    print (\"> %s, ausentes: %d (%.2f%%)\" % (wine_data.columns[c], missing, percentual) )\n",
    "plt.figure(figsize=(10,5))\n",
    "_ = sns.heatmap(wine_data.isnull(),yticklabels=False, cbar=False)"
   ]
  },
  {
   "cell_type": "code",
   "execution_count": null,
   "metadata": {},
   "outputs": [],
   "source": [
    "#Verificando a contagem de registros iguais a zero\n",
    "print('Registros iguais a zero por coluna')\n",
    "for c in range(wine_data.shape[1]):\n",
    "    count_zeros   = (wine_data[[wine_data.columns[c]]]==0).sum()\n",
    "    percentual = count_zeros / wine_data.shape[0] * 100\n",
    "    print (\"> A coluna %s tem %d (%.2f%%) registros iguais a zero.\" % (wine_data.columns[c], count_zeros, percentual) )\n",
    "\n",
    "plt.figure(figsize=(10,5))\n",
    "_ = sns.heatmap((wine_data == 0),yticklabels=False, cbar=False)"
   ]
  },
  {
   "cell_type": "markdown",
   "metadata": {},
   "source": [
    "### 4.2 Correlação e distribuição dos dados"
   ]
  },
  {
   "cell_type": "code",
   "execution_count": null,
   "metadata": {},
   "outputs": [],
   "source": [
    "#predictors\n",
    "X = wine_data.drop(['Class'], axis=1)\n",
    "#target\n",
    "y = wine_data['Class']"
   ]
  },
  {
   "cell_type": "code",
   "execution_count": null,
   "metadata": {},
   "outputs": [],
   "source": [
    "cores = y.astype('category').cat.codes\n",
    "_=pd.plotting.scatter_matrix( X, c=cores ,figsize=[15,15], marker='D')\n",
    "\n",
    "for ax in _.flatten():\n",
    "    ax.xaxis.label.set_rotation(90)\n",
    "    ax.yaxis.label.set_rotation(0)\n",
    "    ax.yaxis.label.set_ha('right')"
   ]
  },
  {
   "cell_type": "code",
   "execution_count": null,
   "metadata": {},
   "outputs": [],
   "source": [
    "# calcular a matriz de correlação\n",
    "corr = X.corr()\n",
    "\n",
    "def magnify():\n",
    "    return [dict(selector=\"th\",\n",
    "                 props=[(\"font-size\", \"7pt\")]),\n",
    "            dict(selector=\"td\",\n",
    "                 props=[('padding', \"0em 0em\")]),\n",
    "            dict(selector=\"th:hover\",\n",
    "                 props=[(\"font-size\", \"12pt\")]),\n",
    "            dict(selector=\"tr:hover td:hover\",\n",
    "                 props=[('max-width', '200px'),\n",
    "                        ('font-size', '12pt')])]\n",
    "\n",
    "corr.style.background_gradient()\\\n",
    "    .set_properties(**{'max-width': '80px', 'font-size': '10pt'})\\\n",
    "    .set_caption(\"Passe o mouse para ampliar\")\\\n",
    "    .set_precision(2)\\\n",
    "    .set_table_styles(magnify())"
   ]
  },
  {
   "cell_type": "markdown",
   "metadata": {},
   "source": [
    "## 5. Transformação dos dados"
   ]
  },
  {
   "cell_type": "code",
   "execution_count": null,
   "metadata": {},
   "outputs": [],
   "source": [
    "#from sklearn.preprocessing import MinMaxScaler\n",
    "from sklearn.preprocessing import StandardScaler\n",
    "\n",
    "#scaler = MinMaxScaler() \n",
    "#X_scaled = pd.DataFrame(scaler.fit_transform(X))\n",
    "#X_scaled.columns = X.columns\n",
    "\n",
    "scaler = StandardScaler() \n",
    "X_scaled = pd.DataFrame(scaler.fit_transform(X))\n",
    "X_scaled.columns = X.columns"
   ]
  },
  {
   "cell_type": "code",
   "execution_count": null,
   "metadata": {},
   "outputs": [],
   "source": [
    "X_scaled.head()"
   ]
  },
  {
   "cell_type": "markdown",
   "metadata": {},
   "source": [
    "## 6. Particionamento do dataset"
   ]
  },
  {
   "cell_type": "code",
   "execution_count": null,
   "metadata": {},
   "outputs": [],
   "source": [
    "#predictors\n",
    "X = X_scaled\n",
    "#target\n",
    "y = wine_data['Class']\n",
    "#split (70/30)\n",
    "X_train, X_test, y_train, y_test = train_test_split(X, y,test_size=.3, stratify=y, random_state=SEED)"
   ]
  },
  {
   "cell_type": "markdown",
   "metadata": {},
   "source": [
    "## 7. Criação dos classificadores"
   ]
  },
  {
   "cell_type": "code",
   "execution_count": null,
   "metadata": {},
   "outputs": [],
   "source": [
    "def build_classifiers():\n",
    "    \"\"\"Retorna uma lista com os classificadores que serão avaliados\"\"\"\n",
    "    classifiers=[]\n",
    "    classifiers.append(\n",
    "        ('KNN',                                          #nome do classificador\n",
    "         KNeighborsClassifier(),                         #instância do classificador \n",
    "         {'n_neighbors':range(1,33,2)}                   #hiperparametros\n",
    "        )\n",
    "    )\n",
    "    classifiers.append(\n",
    "        ('LR',                   \n",
    "         LogisticRegression(max_iter=10000),\n",
    "         {'penalty':['l2'], 'C':[100, 10, 1, 0.1, 0.01]}                 \n",
    "        )\n",
    "    )\n",
    "    classifiers.append(\n",
    "        ('SVM',                   \n",
    "         SVC(),   \n",
    "         {'kernel':['linear', 'rbf'],\n",
    "          'C':[2**(-5),1,2**5,2**10],\n",
    "          'gamma':[2**(-15),2**(-10),2**(-5),1,2**5]\n",
    "         }                 \n",
    "        )\n",
    "    )\n",
    "    classifiers.append(\n",
    "        ('DT',                   \n",
    "         DecisionTreeClassifier(random_state=SEED),   \n",
    "         {'max_depth':[2,4,6,8,10,12]}   \n",
    "        )\n",
    "    )\n",
    "    classifiers.append(\n",
    "        ('RF',                   \n",
    "         RandomForestClassifier(random_state=SEED),   \n",
    "         {'n_estimators':[10, 50, 100]}   \n",
    "        )\n",
    "    )\n",
    "    classifiers.append(\n",
    "        ('GNB',                   \n",
    "         GaussianNB(),\n",
    "         {}\n",
    "        )\n",
    "    )\n",
    "    return classifiers"
   ]
  },
  {
   "cell_type": "markdown",
   "metadata": {},
   "source": [
    "## 8. Desempenho dos classificadores"
   ]
  },
  {
   "cell_type": "markdown",
   "metadata": {},
   "source": [
    "### 8.1. Avaliação dos classificadores em treino"
   ]
  },
  {
   "cell_type": "code",
   "execution_count": null,
   "metadata": {
    "scrolled": true
   },
   "outputs": [],
   "source": [
    "classifiers = build_classifiers()\n",
    "results_train = []\n",
    "names  = []\n",
    "for name, model, parameters in classifiers:\n",
    "    print('>> classifier name: {}'.format(name))\n",
    "    gs = GridSearchCV(estimator=model, param_grid=parameters, refit=True, verbose=0)\n",
    "    kf = KFold(n_splits=10, shuffle=True, random_state=SEED)\n",
    "    cv = cross_val_score(gs, X_train, y_train, cv=kf, scoring='accuracy')\n",
    "    print('Mean Accuracy: {:.2f}%, Standard Deviation: {}'.format(cv.mean()*100,cv.std()))\n",
    "    results_train.append(cv)\n",
    "    names.append(name)"
   ]
  },
  {
   "cell_type": "markdown",
   "metadata": {},
   "source": [
    "### 8.2. Avaliação dos classificadores em teste"
   ]
  },
  {
   "cell_type": "code",
   "execution_count": null,
   "metadata": {},
   "outputs": [],
   "source": [
    "results_test = []\n",
    "names = []\n",
    "\n",
    "print('Desempenho dos algoritmos em teste: \"scoring = accuracy\"')\n",
    "for name, model, parameters in classifiers:\n",
    "    model.fit(X_train, y_train) \n",
    "    y_pred = model.predict(X_test)\n",
    "    #y_pred = cross_val_predict(model, X_train, y_train, cv = KFold(n_splits = 10, shuffle = True))\n",
    "    score = model.score(X_test,y_test)\n",
    "    results_test.append(score)\n",
    "    names.append(name)\n",
    "    print('Classifier Name: {} >> {:.2f}%'.format(name, (score)*100))"
   ]
  },
  {
   "cell_type": "markdown",
   "metadata": {},
   "source": [
    "### 8.3.  Comparativo de desempenho dos algoritmos (treinamento vs. teste)"
   ]
  },
  {
   "cell_type": "code",
   "execution_count": null,
   "metadata": {},
   "outputs": [],
   "source": [
    "#Gráficos\n",
    "fig, (ax1, ax2) = plt.subplots(1,2,figsize=(16,5))\n",
    "fig.suptitle('Treinamento vs. Teste', fontsize=18)\n",
    "\n",
    "#Gráfico Treino\n",
    "ax1.boxplot(results_train)\n",
    "ax1.set_xticklabels(names, rotation=45)\n",
    "ax1.set_ylabel('Accuracy')\n",
    "ax1.set_xlabel('Classificadores')\n",
    "ax1.set_title('Desempenhos dos algortimos em treinamento')\n",
    "\n",
    "#Gráfico Teste\n",
    "df = pd.DataFrame((zip(names, results_test)),columns = ['Classificadores','Accuracy_teste'])\n",
    "df.set_index('Classificadores',inplace=True)\n",
    "\n",
    "ax2 = sns.barplot(x=df.index,y=df.Accuracy_teste)\n",
    "ax2.set_xticklabels(names,rotation=45)\n",
    "ax2.set_ylabel('Accuracy')\n",
    "ax2.set_xlabel('Classificadores')\n",
    "_=ax2.set_title('Desempenhos dos algortimos em teste')"
   ]
  },
  {
   "cell_type": "markdown",
   "metadata": {},
   "source": [
    "### 8.4. Matriz de Confusão"
   ]
  },
  {
   "cell_type": "code",
   "execution_count": null,
   "metadata": {},
   "outputs": [],
   "source": [
    "from sklearn.metrics import ConfusionMatrixDisplay\n",
    "\n",
    "class_names = ['Class_1','Class_2','Class_3']\n",
    "\n",
    "for  name, model, parameters in classifiers:\n",
    "    y_pred = model.predict(X_test)\n",
    "    cm = confusion_matrix(y_test, y_pred)\n",
    "    cm_display = ConfusionMatrixDisplay(cm).plot()\n",
    "    #print('***** Classification Report:{}*****'.format(name))\n",
    "    #print(classification_report(y_test, y_pred))\n",
    "    cm_display.ax_.set_title(name)\n",
    "    cm_display.ax_.set_xticklabels(class_names)\n",
    "    cm_display.ax_.set_yticklabels(class_names)"
   ]
  },
  {
   "cell_type": "markdown",
   "metadata": {},
   "source": [
    "### 8.5. Classification Report"
   ]
  },
  {
   "cell_type": "code",
   "execution_count": null,
   "metadata": {},
   "outputs": [],
   "source": [
    "for  name, model, parameters in classifiers:\n",
    "    y_pred = model.predict(X_test)\n",
    "    print('CLASSIFICATION REPORT'+'     *****   {}   *****'.format(name))   \n",
    "    print(classification_report(y_test, y_pred,digits=5))\n",
    "    print('')"
   ]
  },
  {
   "cell_type": "markdown",
   "metadata": {},
   "source": [
    "## 9. Deploy do Modelo"
   ]
  },
  {
   "cell_type": "code",
   "execution_count": null,
   "metadata": {},
   "outputs": [],
   "source": [
    "model = RandomForestClassifier()\n",
    "local_path = os.path.join(DEPLOY_PATH, DEPLOY_FILE)\n",
    "joblib.dump(model, local_path)"
   ]
  }
 ],
 "metadata": {
  "kernelspec": {
   "display_name": "Python 3",
   "language": "python",
   "name": "python3"
  },
  "language_info": {
   "codemirror_mode": {
    "name": "ipython",
    "version": 3
   },
   "file_extension": ".py",
   "mimetype": "text/x-python",
   "name": "python",
   "nbconvert_exporter": "python",
   "pygments_lexer": "ipython3",
   "version": "3.8.5"
  }
 },
 "nbformat": 4,
 "nbformat_minor": 4
}
